{
 "cells": [
  {
   "cell_type": "code",
   "execution_count": 1,
   "metadata": {},
   "outputs": [],
   "source": [
    "import bs4 as bs\n",
    "import pandas as pd\n",
    "import matplotlib as plt\n",
    "from matplotlib import pyplot as pplt\n",
    "import os\n",
    "from pptx import Presentation\n",
    "import pprint as p\n",
    "\n",
    "#Die Buch-Kürzel des alten Testaments\n",
    "AT = [\"Gn\", \"Ex\", \"Lv\", \"Nm\", \"Dt\", \"Ios\", \"Idc\", \"Rt\", \"1Sm\", \"2Sm\", \"3Rg\", \"4Rg\", \"1Par\", \"2Par\", \"Esr\", \"Neh\", \"Tb\",\n",
    "      \"Idt\", \"Est\", \"1Mcc\"\n",
    "    , \"2Mcc\", \"3Mcc\", \"4Mcc\", \"Iob\", \"Ps\", \"Prv\", \"Ecl\", \"Ct\", \"Sap\", \"Sir\", \"Is\", \"Ier\", \"Lam\", \"Bar\", \"Ez\", \"Dn\",\n",
    "      \"Os\", \"Ioel\", \"Am\", \"Abd\"\n",
    "    , \"Ion\", \"Mi\", \"Na\", \"Hab\", \"So\", \"Agg\", \"Za\", \"Mal\"]"
   ]
  },
  {
   "cell_type": "code",
   "execution_count": 2,
   "metadata": {},
   "outputs": [],
   "source": [
    "def percent_calc(num1, num2):\n",
    "    '''returns percentage value'''\n",
    "    return (num1/num2)*100\n",
    "    \n",
    " \n",
    "    \n",
    "def analyse(filename):\n",
    "    '''Opens a file specified by the filename, including the directory and creates dataframe for the respective file. Subsequently, \n",
    "    this function analyses the chapter with regard to our criteria: 1) Length of the text 2) direct bible quote 3) percentage of text that is a quote'''\n",
    "    #Öffnen der Datei \"filename\"\n",
    "    file_title = filename.split(\".\")[0]\n",
    "    with open(filename, 'r') as f:\n",
    "        file = f.read()   \n",
    "    soup = bs.BeautifulSoup(file, 'lxml')\n",
    "    #Wählen aller ref-Elemente, die das Attribut cRef haben\n",
    "    Refs = soup.select('ref[cRef]')\n",
    "    # Konvertierung der Daten in data. Dies ist die Grundlage für die Auswertungen\n",
    "    data = []\n",
    "    for ref in Refs:\n",
    "        if ref.get('cref').split('_')[0] in AT:\n",
    "            if ref.parent.find_previous_sibling() == ref.parent.find_previous_sibling('q'):\n",
    "                data.append((ref.get('cref') , 'at', ref.getText() , ref.parent.find_previous_sibling('q').get_text(' ',strip=True)))\n",
    "            else:\n",
    "                data.append((ref.get('cref'), 'at', ref.getText(), 'not a direct quote'))\n",
    "        else:\n",
    "            if ref.parent.find_previous_sibling() == ref.parent.find_previous_sibling('q'):\n",
    "                data.append((ref.get('cref') , 'nt', ref.getText() , ref.parent.find_previous_sibling('q').get_text(' ',strip=True)))\n",
    "            else:\n",
    "                data.append((ref.get('cref'), 'nt', ref.getText(), 'not a direct quote'))\n",
    "    # der eigentliche Dataframe wird gesetzt\n",
    "    df_data = pd.DataFrame(data)\n",
    "    # der Header wird gesetzt.\n",
    "    df_data.columns = ['kuerzel', 'atnt', 'stelle', 'zitat']\n",
    "\n",
    "\n",
    "\n",
    "    # Hier wird eine Liste der wörtlichen Zitate erstellt\n",
    "    qs = []\n",
    "    for ref in Refs:\n",
    "        if ref.parent.find_previous_sibling() == ref.parent.find_previous_sibling(\"q\"):\n",
    "            qs.append(ref.parent.find_previous_sibling(\"q\").get_text(\" \", strip=True))\n",
    "\n",
    "\n",
    "\n",
    "    # Hier eine Liste der zitierten Stelle \n",
    "    stellen = []\n",
    "    for i in range (0, len(df_data)):\n",
    "        if df_data['zitat'][i] != 'not a direct quote':\n",
    "            stellen.append(df_data['stelle'][i])\n",
    "    #print(stellen)\n",
    "    \n",
    "    # Zählen der Gesamtlänge des zitierten Textes; ohne Leerzeilen und Zeilenumbrüche \n",
    "    quote_len = 0\n",
    "    for i in range(len(qs)):\n",
    "        quote_len +=len(qs[i].replace(\" \",\"\").replace(\"\\n\", \"\"))\n",
    "\n",
    "    #ges = bs.BeautifulSoup(file, 'lxml')\n",
    "    ges_soup = soup.select('div')\n",
    "    #print(len(ges_soup[2].text))\n",
    "    notes = soup.body.select(\"note\")\n",
    "    supplied = soup.body.select(\"supplied\")\n",
    "    \n",
    "    \n",
    "    # Zählen der Gesamtlänge des Textes; ohne Leerzeilen und Zeilenumbrüche\n",
    "    total_len=0\n",
    "    for i in range(len(ges_soup)):\n",
    "        total_len += len(ges_soup[i].getText().replace(\" \", \"\").replace(\"\\n\", \"\"))\n",
    "     \n",
    "   # Berechnung der Länge des Textes aller note-Elemente \n",
    "    no_len = 0\n",
    "    for i in range(len(notes)):\n",
    "        #print(len(notes[i].getText()))\n",
    "        no_len += len(notes[i].getText().replace(\" \",\"\").replace(\"\\n\", \"\"))\n",
    "    #print(no_len)\n",
    "    supplied_len = 0\n",
    "    for i in range(len(supplied)):\n",
    "        supplied_len += len(supplied[i].getText().replace(\" \", \"\").replace(\"\\n\", \"\"))\n",
    "\n",
    "\n",
    "    print(f\"---{filename}---\")\n",
    "    print(f\"Länge inkl. <note>: {total_len}\")\n",
    "    print(f\"supplied: {supplied_len}\")\n",
    "    print(f\"Länge d. <note>-Inhalte: {no_len}\")\n",
    "    print(\"Gesamtlänge:\" +str(total_len-no_len-supplied_len))\n",
    "    print(f\"Anzahl an erfassten Bibelstellen: {len(Refs)}\")\n",
    "    print(f\"wörtliche Zitate: {len(stellen)}\")\n",
    "    #p.pprint(f\"Liste d. wörtlichen Zitate:{stellen}\")\n",
    "    print(\"Zitatlänge :\"+ str(quote_len))    \n",
    "    print(\"Prozentualer Anteil: \" +(str(percent_calc(quote_len, total_len))))\n",
    "    lines = [f\"Anzahl an erfassten Bibelstellen: {len(Refs)}\", f\"wörtliche Zitate: {len(stellen)}\", f\"Liste d. wörtl.: {stellen}\",f\"Länge inkl. note: {total_len}\" ,f\"Gesamtlänge: {str(total_len-no_len-supplied_len)}\", f\"Länge d. erf. <note>-Inhalte: {no_len}\", f\"Zitatlänge :{str(quote_len)}\",f\"Prozentualer Anteil: {(str(percent_calc(quote_len, total_len)))}\"]\n",
    "    # Speichern der obigen Ausgabe harter Fakten in einer Text-Datei mit dem Titel der ausgewählten Datei. \n",
    "    with open(f'Visualisierungen/{file_title}', 'w') as f2:\n",
    "        for line in lines:\n",
    "            f2.write(line)\n",
    "            f2.write(\"\\n\")\n",
    "    # Ausgabe, Speichern und Schließen der einzelen Diagramme. \n",
    "    print(df_data[\"kuerzel\"].value_counts().plot(figsize=(8,8), kind=\"pie\", legend=False, title=f\"{filename}\"))\n",
    "    pplt.savefig(f'Visualisierungen/{file_title}.jpg')\n",
    "    pplt.clf()\n",
    "    pplt.cla()\n",
    "    pplt.close()\n",
    "    print(df_data[\"atnt\"].value_counts().plot(figsize=(8,8), kind=\"bar\", legend=False, title=f\"{filename}\", color=[\"blue\", \"red\"]))\n",
    "    pplt.savefig(f'Visualisierungen/{file_title}_atnt.jpg')\n",
    "    pplt.clf()\n",
    "    pplt.cla()\n",
    "    pplt.close()\n",
    "    print(df_data[\"kuerzel\"].value_counts()[:5].plot(figsize=(8,8), kind=\"barh\", legend=False, title=f\"{filename}  @cRef)\", color=\"purple\"))\n",
    "    pplt.savefig(f'Visualisierungen/{file_title}_cref.jpg')\n",
    "    pplt.clf()\n",
    "    pplt.cla()\n",
    "    pplt.close()\n",
    "    print(df_data[\"stelle\"].value_counts()[:10].plot(figsize=(8,8), kind=\"barh\", legend=False, title=f\"{filename} nach Stellen\", color=\"red\"))\n",
    "    pplt.savefig(f'Visualisierungen/{file_title}_nach_stellen.jpg')\n",
    "    pplt.clf()\n",
    "    pplt.cla()\n",
    "    pplt.close()\n",
    "    \n",
    "    "
   ]
  },
  {
   "cell_type": "code",
   "execution_count": 3,
   "metadata": {},
   "outputs": [],
   "source": [
    "def no_bible_quote(filename):\n",
    "    '''Opens a file specified by the filename, including the directory and creates dataframe for the respective file. Subsequently, this function analyses the chapter with regard to our criteria'''\n",
    "    file_title = filename.split(\".\")[0]\n",
    "    with open(filename, 'r') as f:\n",
    "        file = f.read() \n",
    "    ges = bs.BeautifulSoup(file, 'lxml')\n",
    "    ges_soup = ges.select('div')\n",
    "    notes = ges.find_all(\"note\")\n",
    "    supplied = soup.body.select(\"supplied\")\n",
    "    # Zählen der Gesamtlänge des Textes; ohne Leerzeilen und Zeilenumbrüche\n",
    "    total_len=0\n",
    "    for i in range(len(ges_soup)):\n",
    "        total_len += len(ges_soup[i].getText().replace(\" \", \"\").replace(\"n\", \"\"))\n",
    "     \n",
    "   # Berechnung der Länge des Textes aller note-Elemente \n",
    "    no_len = 0\n",
    "    for i in range(len(notes)):\n",
    "        #print(len(notes[i].getText()))\n",
    "        no_len += len(notes[i].getText())\n",
    "    print(no_len)\n",
    "    \n",
    "    supplied_len = 0\n",
    "    for i in range(len(supplied)):\n",
    "        supplied_len += len(supplied[i].getText().replace(\" \", \"\").replace(\"\\n\", \"\"))\n",
    "\n",
    "    print(\"Gesamtlänge:\" +str(total_len-no_len-supplied_len))"
   ]
  },
  {
   "cell_type": "markdown",
   "metadata": {},
   "source": [
    "# Daten für das gesamte Interim"
   ]
  },
  {
   "cell_type": "code",
   "execution_count": 4,
   "metadata": {
    "pycharm": {
     "is_executing": true
    },
    "scrolled": true
   },
   "outputs": [
    {
     "name": "stdout",
     "output_type": "stream",
     "text": [
      "---interim4.xml---\n",
      "Länge inkl. <note>: 123612\n",
      "supplied: 43\n",
      "Länge d. <note>-Inhalte: 24805\n",
      "Gesamtlänge:98764\n",
      "Anzahl an erfassten Bibelstellen: 283\n",
      "wörtliche Zitate: 114\n",
      "Zitatlänge :9720\n",
      "Prozentualer Anteil: 7.863314241335792\n",
      "AxesSubplot(0.1275,0.11;0.77x0.77)\n",
      "AxesSubplot(0.125,0.11;0.775x0.77)\n",
      "AxesSubplot(0.125,0.11;0.775x0.77)\n",
      "AxesSubplot(0.125,0.11;0.775x0.77)\n"
     ]
    }
   ],
   "source": [
    "\n",
    "analyse('interim4.xml')\n"
   ]
  },
  {
   "cell_type": "code",
   "execution_count": 5,
   "metadata": {
    "pycharm": {
     "is_executing": true
    }
   },
   "outputs": [
    {
     "name": "stderr",
     "output_type": "stream",
     "text": [
      "/home/kevin/PycharmProjects/Graz_Bibelstellen/venv/lib/python3.10/site-packages/bs4/builder/__init__.py:545: XMLParsedAsHTMLWarning: It looks like you're parsing an XML document using an HTML parser. If this really is an HTML document (maybe it's XHTML?), you can ignore or filter this warning. If it's XML, you should know that using an XML parser will be more reliable. To parse this document as XML, make sure you have the lxml package installed, and pass the keyword argument `features=\"xml\"` into the BeautifulSoup constructor.\n",
      "  warnings.warn(\n"
     ]
    },
    {
     "name": "stdout",
     "output_type": "stream",
     "text": [
      "---chapters/05.xml---\n",
      "Länge inkl. <note>: 826\n",
      "supplied: 1\n",
      "Länge d. <note>-Inhalte: 234\n",
      "Gesamtlänge:591\n",
      "Anzahl an erfassten Bibelstellen: 3\n",
      "wörtliche Zitate: 0\n",
      "Zitatlänge :0\n",
      "Prozentualer Anteil: 0.0\n",
      "AxesSubplot(0.1275,0.11;0.77x0.77)\n",
      "AxesSubplot(0.125,0.11;0.775x0.77)\n",
      "AxesSubplot(0.125,0.11;0.775x0.77)\n",
      "AxesSubplot(0.125,0.11;0.775x0.77)\n"
     ]
    }
   ],
   "source": [
    "analyse('chapters/05.xml')"
   ]
  },
  {
   "cell_type": "code",
   "execution_count": 6,
   "metadata": {
    "pycharm": {
     "is_executing": true
    }
   },
   "outputs": [
    {
     "name": "stdout",
     "output_type": "stream",
     "text": [
      "29\n",
      "Der Römischen Keyserlichen Majestat Erklärung, wie es der Reli - gion halben imm heyligen Reich biß zu Außtrag deß gemeinen Concilii gehalten werden sol, auff dem Reichß - - tag zu Augspurg den XV. Maii im M. D. XLVIII. Jar publiciert unnd eröffnet unnd von ge - - meinen Stenden angenommen. Christo Auspice Plus Ultra. Cum Gratia et Privilegio etc.\n"
     ]
    }
   ],
   "source": [
    "with open('interim.xml', 'r') as f:\n",
    "    file = f.read()   \n",
    "ges2 = bs.BeautifulSoup(file, 'lxml')\n",
    "ges_soup2 = ges2.select('div')\n",
    "print(len(ges_soup2[0]))\n",
    "print(ges_soup2[0].getText(\" \", strip=True))"
   ]
  },
  {
   "cell_type": "code",
   "execution_count": 11,
   "metadata": {
    "pycharm": {
     "is_executing": true
    }
   },
   "outputs": [
    {
     "name": "stdout",
     "output_type": "stream",
     "text": [
      "analyse('chapters/01.xml')\n",
      "analyse('chapters/02.xml')\n",
      "analyse('chapters/03.xml')\n",
      "analyse('chapters/04.xml')\n",
      "analyse('chapters/05.xml')\n",
      "analyse('chapters/06.xml')\n",
      "analyse('chapters/07.xml')\n",
      "analyse('chapters/08.xml')\n",
      "analyse('chapters/09.xml')\n",
      "analyse('chapters/10.xml')\n",
      "analyse('chapters/11.xml')\n",
      "analyse('chapters/12.xml')\n",
      "analyse('chapters/13.xml')\n",
      "analyse('chapters/14.xml')\n",
      "analyse('chapters/15.xml')\n",
      "analyse('chapters/16.xml')\n",
      "analyse('chapters/17.xml')\n",
      "analyse('chapters/18.xml')\n",
      "analyse('chapters/19.xml')\n",
      "analyse('chapters/20.xml')\n",
      "analyse('chapters/21.xml')\n",
      "analyse('chapters/22.xml')\n",
      "analyse('chapters/23.xml')\n",
      "analyse('chapters/24.xml')\n",
      "analyse('chapters/25.xml')\n",
      "analyse('chapters/26.xml')\n"
     ]
    }
   ],
   "source": [
    "for i in range(1,27):\n",
    "    if i <10:\n",
    "        print(f\"analyse('chapters/0{i}.xml')\")\n",
    "    else:\n",
    "        print(f\"analyse('chapters/{i}.xml')\")\n",
    "    i +=1"
   ]
  },
  {
   "cell_type": "code",
   "execution_count": 12,
   "metadata": {
    "pycharm": {
     "is_executing": true
    }
   },
   "outputs": [
    {
     "name": "stderr",
     "output_type": "stream",
     "text": [
      "/home/kevin/PycharmProjects/Graz_Bibelstellen/venv/lib/python3.10/site-packages/bs4/builder/__init__.py:545: XMLParsedAsHTMLWarning: It looks like you're parsing an XML document using an HTML parser. If this really is an HTML document (maybe it's XHTML?), you can ignore or filter this warning. If it's XML, you should know that using an XML parser will be more reliable. To parse this document as XML, make sure you have the lxml package installed, and pass the keyword argument `features=\"xml\"` into the BeautifulSoup constructor.\n",
      "  warnings.warn(\n"
     ]
    },
    {
     "name": "stdout",
     "output_type": "stream",
     "text": [
      "---chapters/01.xml---\n",
      "Länge inkl. <note>: 1372\n",
      "supplied: 1\n",
      "Länge d. <note>-Inhalte: 284\n",
      "Gesamtlänge:1087\n",
      "Anzahl an erfassten Bibelstellen: 2\n",
      "wörtliche Zitate: 1\n",
      "Zitatlänge :45\n",
      "Prozentualer Anteil: 3.279883381924198\n",
      "AxesSubplot(0.1275,0.11;0.77x0.77)\n",
      "AxesSubplot(0.125,0.11;0.775x0.77)\n",
      "AxesSubplot(0.125,0.11;0.775x0.77)\n",
      "AxesSubplot(0.125,0.11;0.775x0.77)\n",
      "---chapters/02.xml---\n",
      "Länge inkl. <note>: 2962\n",
      "supplied: 1\n",
      "Länge d. <note>-Inhalte: 497\n",
      "Gesamtlänge:2464\n",
      "Anzahl an erfassten Bibelstellen: 14\n",
      "wörtliche Zitate: 1\n",
      "Zitatlänge :75\n",
      "Prozentualer Anteil: 2.5320729237002024\n",
      "AxesSubplot(0.1275,0.11;0.77x0.77)\n",
      "AxesSubplot(0.125,0.11;0.775x0.77)\n"
     ]
    },
    {
     "name": "stderr",
     "output_type": "stream",
     "text": [
      "/home/kevin/PycharmProjects/Graz_Bibelstellen/venv/lib/python3.10/site-packages/bs4/builder/__init__.py:545: XMLParsedAsHTMLWarning: It looks like you're parsing an XML document using an HTML parser. If this really is an HTML document (maybe it's XHTML?), you can ignore or filter this warning. If it's XML, you should know that using an XML parser will be more reliable. To parse this document as XML, make sure you have the lxml package installed, and pass the keyword argument `features=\"xml\"` into the BeautifulSoup constructor.\n",
      "  warnings.warn(\n"
     ]
    },
    {
     "name": "stdout",
     "output_type": "stream",
     "text": [
      "AxesSubplot(0.125,0.11;0.775x0.77)\n",
      "AxesSubplot(0.125,0.11;0.775x0.77)\n",
      "---chapters/03.xml---\n",
      "Länge inkl. <note>: 2163\n",
      "supplied: 1\n",
      "Länge d. <note>-Inhalte: 339\n",
      "Gesamtlänge:1823\n",
      "Anzahl an erfassten Bibelstellen: 8\n",
      "wörtliche Zitate: 1\n",
      "Zitatlänge :173\n",
      "Prozentualer Anteil: 7.998150716597319\n",
      "AxesSubplot(0.1275,0.11;0.77x0.77)\n"
     ]
    },
    {
     "name": "stderr",
     "output_type": "stream",
     "text": [
      "/home/kevin/PycharmProjects/Graz_Bibelstellen/venv/lib/python3.10/site-packages/bs4/builder/__init__.py:545: XMLParsedAsHTMLWarning: It looks like you're parsing an XML document using an HTML parser. If this really is an HTML document (maybe it's XHTML?), you can ignore or filter this warning. If it's XML, you should know that using an XML parser will be more reliable. To parse this document as XML, make sure you have the lxml package installed, and pass the keyword argument `features=\"xml\"` into the BeautifulSoup constructor.\n",
      "  warnings.warn(\n"
     ]
    },
    {
     "name": "stdout",
     "output_type": "stream",
     "text": [
      "AxesSubplot(0.125,0.11;0.775x0.77)\n",
      "AxesSubplot(0.125,0.11;0.775x0.77)\n",
      "AxesSubplot(0.125,0.11;0.775x0.77)\n",
      "---chapters/04.xml---\n",
      "Länge inkl. <note>: 4589\n",
      "supplied: 1\n",
      "Länge d. <note>-Inhalte: 836\n",
      "Gesamtlänge:3752\n",
      "Anzahl an erfassten Bibelstellen: 13\n",
      "wörtliche Zitate: 7\n",
      "Zitatlänge :944\n",
      "Prozentualer Anteil: 20.57093048594465\n",
      "AxesSubplot(0.1275,0.11;0.77x0.77)\n",
      "AxesSubplot(0.125,0.11;0.775x0.77)\n"
     ]
    },
    {
     "name": "stderr",
     "output_type": "stream",
     "text": [
      "/home/kevin/PycharmProjects/Graz_Bibelstellen/venv/lib/python3.10/site-packages/bs4/builder/__init__.py:545: XMLParsedAsHTMLWarning: It looks like you're parsing an XML document using an HTML parser. If this really is an HTML document (maybe it's XHTML?), you can ignore or filter this warning. If it's XML, you should know that using an XML parser will be more reliable. To parse this document as XML, make sure you have the lxml package installed, and pass the keyword argument `features=\"xml\"` into the BeautifulSoup constructor.\n",
      "  warnings.warn(\n"
     ]
    },
    {
     "name": "stdout",
     "output_type": "stream",
     "text": [
      "AxesSubplot(0.125,0.11;0.775x0.77)\n",
      "AxesSubplot(0.125,0.11;0.775x0.77)\n",
      "---chapters/05.xml---\n",
      "Länge inkl. <note>: 826\n",
      "supplied: 1\n",
      "Länge d. <note>-Inhalte: 234\n",
      "Gesamtlänge:591\n",
      "Anzahl an erfassten Bibelstellen: 3\n",
      "wörtliche Zitate: 0\n",
      "Zitatlänge :0\n",
      "Prozentualer Anteil: 0.0\n",
      "AxesSubplot(0.1275,0.11;0.77x0.77)\n"
     ]
    },
    {
     "name": "stderr",
     "output_type": "stream",
     "text": [
      "/home/kevin/PycharmProjects/Graz_Bibelstellen/venv/lib/python3.10/site-packages/bs4/builder/__init__.py:545: XMLParsedAsHTMLWarning: It looks like you're parsing an XML document using an HTML parser. If this really is an HTML document (maybe it's XHTML?), you can ignore or filter this warning. If it's XML, you should know that using an XML parser will be more reliable. To parse this document as XML, make sure you have the lxml package installed, and pass the keyword argument `features=\"xml\"` into the BeautifulSoup constructor.\n",
      "  warnings.warn(\n"
     ]
    },
    {
     "name": "stdout",
     "output_type": "stream",
     "text": [
      "AxesSubplot(0.125,0.11;0.775x0.77)\n",
      "AxesSubplot(0.125,0.11;0.775x0.77)\n",
      "AxesSubplot(0.125,0.11;0.775x0.77)\n"
     ]
    },
    {
     "name": "stderr",
     "output_type": "stream",
     "text": [
      "/home/kevin/PycharmProjects/Graz_Bibelstellen/venv/lib/python3.10/site-packages/bs4/builder/__init__.py:545: XMLParsedAsHTMLWarning: It looks like you're parsing an XML document using an HTML parser. If this really is an HTML document (maybe it's XHTML?), you can ignore or filter this warning. If it's XML, you should know that using an XML parser will be more reliable. To parse this document as XML, make sure you have the lxml package installed, and pass the keyword argument `features=\"xml\"` into the BeautifulSoup constructor.\n",
      "  warnings.warn(\n"
     ]
    },
    {
     "name": "stdout",
     "output_type": "stream",
     "text": [
      "---chapters/06.xml---\n",
      "Länge inkl. <note>: 3140\n",
      "supplied: 1\n",
      "Länge d. <note>-Inhalte: 668\n",
      "Gesamtlänge:2471\n",
      "Anzahl an erfassten Bibelstellen: 11\n",
      "wörtliche Zitate: 2\n",
      "Zitatlänge :149\n",
      "Prozentualer Anteil: 4.745222929936306\n",
      "AxesSubplot(0.1275,0.11;0.77x0.77)\n",
      "AxesSubplot(0.125,0.11;0.775x0.77)\n",
      "AxesSubplot(0.125,0.11;0.775x0.77)\n",
      "AxesSubplot(0.125,0.11;0.775x0.77)\n",
      "---chapters/07.xml---\n",
      "Länge inkl. <note>: 5509\n",
      "supplied: 1\n",
      "Länge d. <note>-Inhalte: 1679\n",
      "Gesamtlänge:3829\n",
      "Anzahl an erfassten Bibelstellen: 34\n",
      "wörtliche Zitate: 6\n",
      "Zitatlänge :312\n",
      "Prozentualer Anteil: 5.663459793065892\n",
      "AxesSubplot(0.1275,0.11;0.77x0.77)\n"
     ]
    },
    {
     "name": "stderr",
     "output_type": "stream",
     "text": [
      "/home/kevin/PycharmProjects/Graz_Bibelstellen/venv/lib/python3.10/site-packages/bs4/builder/__init__.py:545: XMLParsedAsHTMLWarning: It looks like you're parsing an XML document using an HTML parser. If this really is an HTML document (maybe it's XHTML?), you can ignore or filter this warning. If it's XML, you should know that using an XML parser will be more reliable. To parse this document as XML, make sure you have the lxml package installed, and pass the keyword argument `features=\"xml\"` into the BeautifulSoup constructor.\n",
      "  warnings.warn(\n"
     ]
    },
    {
     "name": "stdout",
     "output_type": "stream",
     "text": [
      "AxesSubplot(0.125,0.11;0.775x0.77)\n",
      "AxesSubplot(0.125,0.11;0.775x0.77)\n",
      "AxesSubplot(0.125,0.11;0.775x0.77)\n"
     ]
    },
    {
     "name": "stderr",
     "output_type": "stream",
     "text": [
      "/home/kevin/PycharmProjects/Graz_Bibelstellen/venv/lib/python3.10/site-packages/bs4/builder/__init__.py:545: XMLParsedAsHTMLWarning: It looks like you're parsing an XML document using an HTML parser. If this really is an HTML document (maybe it's XHTML?), you can ignore or filter this warning. If it's XML, you should know that using an XML parser will be more reliable. To parse this document as XML, make sure you have the lxml package installed, and pass the keyword argument `features=\"xml\"` into the BeautifulSoup constructor.\n",
      "  warnings.warn(\n"
     ]
    },
    {
     "name": "stdout",
     "output_type": "stream",
     "text": [
      "---chapters/08.xml---\n",
      "Länge inkl. <note>: 1191\n",
      "supplied: 1\n",
      "Länge d. <note>-Inhalte: 213\n",
      "Gesamtlänge:977\n",
      "Anzahl an erfassten Bibelstellen: 2\n",
      "wörtliche Zitate: 0\n",
      "Zitatlänge :0\n",
      "Prozentualer Anteil: 0.0\n",
      "AxesSubplot(0.1275,0.11;0.77x0.77)\n",
      "AxesSubplot(0.125,0.11;0.775x0.77)\n",
      "AxesSubplot(0.125,0.11;0.775x0.77)\n",
      "AxesSubplot(0.125,0.11;0.775x0.77)\n",
      "---chapters/09.xml---\n",
      "Länge inkl. <note>: 7224\n",
      "supplied: 1\n",
      "Länge d. <note>-Inhalte: 2018\n",
      "Gesamtlänge:5205\n",
      "Anzahl an erfassten Bibelstellen: 18\n",
      "wörtliche Zitate: 7\n",
      "Zitatlänge :876\n",
      "Prozentualer Anteil: 12.12624584717608\n",
      "AxesSubplot(0.1275,0.11;0.77x0.77)\n",
      "AxesSubplot(0.125,0.11;0.775x0.77)\n"
     ]
    },
    {
     "name": "stderr",
     "output_type": "stream",
     "text": [
      "/home/kevin/PycharmProjects/Graz_Bibelstellen/venv/lib/python3.10/site-packages/bs4/builder/__init__.py:545: XMLParsedAsHTMLWarning: It looks like you're parsing an XML document using an HTML parser. If this really is an HTML document (maybe it's XHTML?), you can ignore or filter this warning. If it's XML, you should know that using an XML parser will be more reliable. To parse this document as XML, make sure you have the lxml package installed, and pass the keyword argument `features=\"xml\"` into the BeautifulSoup constructor.\n",
      "  warnings.warn(\n"
     ]
    },
    {
     "name": "stdout",
     "output_type": "stream",
     "text": [
      "AxesSubplot(0.125,0.11;0.775x0.77)\n",
      "AxesSubplot(0.125,0.11;0.775x0.77)\n",
      "---chapters/10.xml---\n",
      "Länge inkl. <note>: 2604\n",
      "supplied: 2\n",
      "Länge d. <note>-Inhalte: 427\n",
      "Gesamtlänge:2175\n",
      "Anzahl an erfassten Bibelstellen: 10\n",
      "wörtliche Zitate: 6\n",
      "Zitatlänge :783\n",
      "Prozentualer Anteil: 30.069124423963135\n"
     ]
    },
    {
     "name": "stderr",
     "output_type": "stream",
     "text": [
      "/home/kevin/PycharmProjects/Graz_Bibelstellen/venv/lib/python3.10/site-packages/bs4/builder/__init__.py:545: XMLParsedAsHTMLWarning: It looks like you're parsing an XML document using an HTML parser. If this really is an HTML document (maybe it's XHTML?), you can ignore or filter this warning. If it's XML, you should know that using an XML parser will be more reliable. To parse this document as XML, make sure you have the lxml package installed, and pass the keyword argument `features=\"xml\"` into the BeautifulSoup constructor.\n",
      "  warnings.warn(\n"
     ]
    },
    {
     "name": "stdout",
     "output_type": "stream",
     "text": [
      "AxesSubplot(0.1275,0.11;0.77x0.77)\n",
      "AxesSubplot(0.125,0.11;0.775x0.77)\n",
      "AxesSubplot(0.125,0.11;0.775x0.77)\n",
      "AxesSubplot(0.125,0.11;0.775x0.77)\n",
      "---chapters/11.xml---\n",
      "Länge inkl. <note>: 3517\n",
      "supplied: 2\n",
      "Länge d. <note>-Inhalte: 1466\n",
      "Gesamtlänge:2049\n",
      "Anzahl an erfassten Bibelstellen: 9\n",
      "wörtliche Zitate: 3\n",
      "Zitatlänge :183\n",
      "Prozentualer Anteil: 5.203298265567245\n"
     ]
    },
    {
     "name": "stderr",
     "output_type": "stream",
     "text": [
      "/home/kevin/PycharmProjects/Graz_Bibelstellen/venv/lib/python3.10/site-packages/bs4/builder/__init__.py:545: XMLParsedAsHTMLWarning: It looks like you're parsing an XML document using an HTML parser. If this really is an HTML document (maybe it's XHTML?), you can ignore or filter this warning. If it's XML, you should know that using an XML parser will be more reliable. To parse this document as XML, make sure you have the lxml package installed, and pass the keyword argument `features=\"xml\"` into the BeautifulSoup constructor.\n",
      "  warnings.warn(\n"
     ]
    },
    {
     "name": "stdout",
     "output_type": "stream",
     "text": [
      "AxesSubplot(0.1275,0.11;0.77x0.77)\n",
      "AxesSubplot(0.125,0.11;0.775x0.77)\n",
      "AxesSubplot(0.125,0.11;0.775x0.77)\n",
      "AxesSubplot(0.125,0.11;0.775x0.77)\n",
      "---chapters/12.xml---\n",
      "Länge inkl. <note>: 1506\n",
      "supplied: 2\n",
      "Länge d. <note>-Inhalte: 252\n",
      "Gesamtlänge:1252\n",
      "Anzahl an erfassten Bibelstellen: 2\n",
      "wörtliche Zitate: 2\n",
      "Zitatlänge :272\n",
      "Prozentualer Anteil: 18.06108897742364\n",
      "AxesSubplot(0.1275,0.11;0.77x0.77)\n",
      "AxesSubplot(0.125,0.11;0.775x0.77)\n"
     ]
    },
    {
     "name": "stderr",
     "output_type": "stream",
     "text": [
      "/home/kevin/PycharmProjects/Graz_Bibelstellen/venv/lib/python3.10/site-packages/bs4/builder/__init__.py:545: XMLParsedAsHTMLWarning: It looks like you're parsing an XML document using an HTML parser. If this really is an HTML document (maybe it's XHTML?), you can ignore or filter this warning. If it's XML, you should know that using an XML parser will be more reliable. To parse this document as XML, make sure you have the lxml package installed, and pass the keyword argument `features=\"xml\"` into the BeautifulSoup constructor.\n",
      "  warnings.warn(\n"
     ]
    },
    {
     "name": "stdout",
     "output_type": "stream",
     "text": [
      "AxesSubplot(0.125,0.11;0.775x0.77)\n",
      "AxesSubplot(0.125,0.11;0.775x0.77)\n",
      "---chapters/13.xml---\n",
      "Länge inkl. <note>: 1824\n",
      "supplied: 2\n",
      "Länge d. <note>-Inhalte: 517\n",
      "Gesamtlänge:1305\n",
      "Anzahl an erfassten Bibelstellen: 7\n",
      "wörtliche Zitate: 2\n",
      "Zitatlänge :71\n",
      "Prozentualer Anteil: 3.8925438596491233\n",
      "AxesSubplot(0.1275,0.11;0.77x0.77)\n"
     ]
    },
    {
     "name": "stderr",
     "output_type": "stream",
     "text": [
      "/home/kevin/PycharmProjects/Graz_Bibelstellen/venv/lib/python3.10/site-packages/bs4/builder/__init__.py:545: XMLParsedAsHTMLWarning: It looks like you're parsing an XML document using an HTML parser. If this really is an HTML document (maybe it's XHTML?), you can ignore or filter this warning. If it's XML, you should know that using an XML parser will be more reliable. To parse this document as XML, make sure you have the lxml package installed, and pass the keyword argument `features=\"xml\"` into the BeautifulSoup constructor.\n",
      "  warnings.warn(\n"
     ]
    },
    {
     "name": "stdout",
     "output_type": "stream",
     "text": [
      "AxesSubplot(0.125,0.11;0.775x0.77)\n",
      "AxesSubplot(0.125,0.11;0.775x0.77)\n",
      "AxesSubplot(0.125,0.11;0.775x0.77)\n"
     ]
    },
    {
     "name": "stderr",
     "output_type": "stream",
     "text": [
      "/home/kevin/PycharmProjects/Graz_Bibelstellen/venv/lib/python3.10/site-packages/bs4/builder/__init__.py:545: XMLParsedAsHTMLWarning: It looks like you're parsing an XML document using an HTML parser. If this really is an HTML document (maybe it's XHTML?), you can ignore or filter this warning. If it's XML, you should know that using an XML parser will be more reliable. To parse this document as XML, make sure you have the lxml package installed, and pass the keyword argument `features=\"xml\"` into the BeautifulSoup constructor.\n",
      "  warnings.warn(\n"
     ]
    },
    {
     "name": "stdout",
     "output_type": "stream",
     "text": [
      "---chapters/15.xml---\n",
      "Länge inkl. <note>: 3678\n",
      "supplied: 2\n",
      "Länge d. <note>-Inhalte: 425\n",
      "Gesamtlänge:3251\n",
      "Anzahl an erfassten Bibelstellen: 7\n",
      "wörtliche Zitate: 3\n",
      "Zitatlänge :137\n",
      "Prozentualer Anteil: 3.724850462207722\n",
      "AxesSubplot(0.1275,0.11;0.77x0.77)\n",
      "AxesSubplot(0.125,0.11;0.775x0.77)\n",
      "AxesSubplot(0.125,0.11;0.775x0.77)\n",
      "AxesSubplot(0.125,0.11;0.775x0.77)\n",
      "---chapters/16.xml---\n",
      "Länge inkl. <note>: 3821\n",
      "supplied: 2\n",
      "Länge d. <note>-Inhalte: 1064\n",
      "Gesamtlänge:2755\n",
      "Anzahl an erfassten Bibelstellen: 7\n",
      "wörtliche Zitate: 2\n",
      "Zitatlänge :141\n",
      "Prozentualer Anteil: 3.69013347291285\n"
     ]
    },
    {
     "name": "stderr",
     "output_type": "stream",
     "text": [
      "/home/kevin/PycharmProjects/Graz_Bibelstellen/venv/lib/python3.10/site-packages/bs4/builder/__init__.py:545: XMLParsedAsHTMLWarning: It looks like you're parsing an XML document using an HTML parser. If this really is an HTML document (maybe it's XHTML?), you can ignore or filter this warning. If it's XML, you should know that using an XML parser will be more reliable. To parse this document as XML, make sure you have the lxml package installed, and pass the keyword argument `features=\"xml\"` into the BeautifulSoup constructor.\n",
      "  warnings.warn(\n"
     ]
    },
    {
     "name": "stdout",
     "output_type": "stream",
     "text": [
      "AxesSubplot(0.1275,0.11;0.77x0.77)\n",
      "AxesSubplot(0.125,0.11;0.775x0.77)\n",
      "AxesSubplot(0.125,0.11;0.775x0.77)\n",
      "AxesSubplot(0.125,0.11;0.775x0.77)\n",
      "---chapters/17.xml---\n",
      "Länge inkl. <note>: 3977\n",
      "supplied: 2\n",
      "Länge d. <note>-Inhalte: 700\n",
      "Gesamtlänge:3275\n",
      "Anzahl an erfassten Bibelstellen: 5\n",
      "wörtliche Zitate: 4\n",
      "Zitatlänge :275\n",
      "Prozentualer Anteil: 6.9147598692481775\n",
      "AxesSubplot(0.1275,0.11;0.77x0.77)\n",
      "AxesSubplot(0.125,0.11;0.775x0.77)\n"
     ]
    },
    {
     "name": "stderr",
     "output_type": "stream",
     "text": [
      "/home/kevin/PycharmProjects/Graz_Bibelstellen/venv/lib/python3.10/site-packages/bs4/builder/__init__.py:545: XMLParsedAsHTMLWarning: It looks like you're parsing an XML document using an HTML parser. If this really is an HTML document (maybe it's XHTML?), you can ignore or filter this warning. If it's XML, you should know that using an XML parser will be more reliable. To parse this document as XML, make sure you have the lxml package installed, and pass the keyword argument `features=\"xml\"` into the BeautifulSoup constructor.\n",
      "  warnings.warn(\n"
     ]
    },
    {
     "name": "stdout",
     "output_type": "stream",
     "text": [
      "AxesSubplot(0.125,0.11;0.775x0.77)\n",
      "AxesSubplot(0.125,0.11;0.775x0.77)\n",
      "---chapters/18.xml---\n",
      "Länge inkl. <note>: 3058\n",
      "supplied: 2\n",
      "Länge d. <note>-Inhalte: 650\n",
      "Gesamtlänge:2406\n",
      "Anzahl an erfassten Bibelstellen: 9\n",
      "wörtliche Zitate: 8\n",
      "Zitatlänge :385\n",
      "Prozentualer Anteil: 12.589928057553957\n",
      "AxesSubplot(0.1275,0.11;0.77x0.77)\n"
     ]
    },
    {
     "name": "stderr",
     "output_type": "stream",
     "text": [
      "/home/kevin/PycharmProjects/Graz_Bibelstellen/venv/lib/python3.10/site-packages/bs4/builder/__init__.py:545: XMLParsedAsHTMLWarning: It looks like you're parsing an XML document using an HTML parser. If this really is an HTML document (maybe it's XHTML?), you can ignore or filter this warning. If it's XML, you should know that using an XML parser will be more reliable. To parse this document as XML, make sure you have the lxml package installed, and pass the keyword argument `features=\"xml\"` into the BeautifulSoup constructor.\n",
      "  warnings.warn(\n"
     ]
    },
    {
     "name": "stdout",
     "output_type": "stream",
     "text": [
      "AxesSubplot(0.125,0.11;0.775x0.77)\n",
      "AxesSubplot(0.125,0.11;0.775x0.77)\n",
      "AxesSubplot(0.125,0.11;0.775x0.77)\n"
     ]
    },
    {
     "name": "stderr",
     "output_type": "stream",
     "text": [
      "/home/kevin/PycharmProjects/Graz_Bibelstellen/venv/lib/python3.10/site-packages/bs4/builder/__init__.py:545: XMLParsedAsHTMLWarning: It looks like you're parsing an XML document using an HTML parser. If this really is an HTML document (maybe it's XHTML?), you can ignore or filter this warning. If it's XML, you should know that using an XML parser will be more reliable. To parse this document as XML, make sure you have the lxml package installed, and pass the keyword argument `features=\"xml\"` into the BeautifulSoup constructor.\n",
      "  warnings.warn(\n"
     ]
    },
    {
     "name": "stdout",
     "output_type": "stream",
     "text": [
      "---chapters/19.xml---\n",
      "Länge inkl. <note>: 3649\n",
      "supplied: 2\n",
      "Länge d. <note>-Inhalte: 875\n",
      "Gesamtlänge:2772\n",
      "Anzahl an erfassten Bibelstellen: 4\n",
      "wörtliche Zitate: 2\n",
      "Zitatlänge :243\n",
      "Prozentualer Anteil: 6.659358728418745\n",
      "AxesSubplot(0.1275,0.11;0.77x0.77)\n",
      "AxesSubplot(0.125,0.11;0.775x0.77)\n",
      "AxesSubplot(0.125,0.11;0.775x0.77)\n",
      "AxesSubplot(0.125,0.11;0.775x0.77)\n",
      "---chapters/20.xml---\n",
      "Länge inkl. <note>: 2673\n",
      "supplied: 2\n",
      "Länge d. <note>-Inhalte: 633\n",
      "Gesamtlänge:2038\n",
      "Anzahl an erfassten Bibelstellen: 7\n",
      "wörtliche Zitate: 7\n",
      "Zitatlänge :469\n",
      "Prozentualer Anteil: 17.54582865693977\n",
      "AxesSubplot(0.1275,0.11;0.77x0.77)\n",
      "AxesSubplot(0.125,0.11;0.775x0.77)\n"
     ]
    },
    {
     "name": "stderr",
     "output_type": "stream",
     "text": [
      "/home/kevin/PycharmProjects/Graz_Bibelstellen/venv/lib/python3.10/site-packages/bs4/builder/__init__.py:545: XMLParsedAsHTMLWarning: It looks like you're parsing an XML document using an HTML parser. If this really is an HTML document (maybe it's XHTML?), you can ignore or filter this warning. If it's XML, you should know that using an XML parser will be more reliable. To parse this document as XML, make sure you have the lxml package installed, and pass the keyword argument `features=\"xml\"` into the BeautifulSoup constructor.\n",
      "  warnings.warn(\n"
     ]
    },
    {
     "name": "stdout",
     "output_type": "stream",
     "text": [
      "AxesSubplot(0.125,0.11;0.775x0.77)\n",
      "AxesSubplot(0.125,0.11;0.775x0.77)\n",
      "---chapters/21.xml---\n",
      "Länge inkl. <note>: 6577\n",
      "supplied: 2\n",
      "Länge d. <note>-Inhalte: 598\n",
      "Gesamtlänge:5977\n",
      "Anzahl an erfassten Bibelstellen: 29\n",
      "wörtliche Zitate: 13\n",
      "Zitatlänge :1453\n",
      "Prozentualer Anteil: 22.092139273224877\n"
     ]
    },
    {
     "name": "stderr",
     "output_type": "stream",
     "text": [
      "/home/kevin/PycharmProjects/Graz_Bibelstellen/venv/lib/python3.10/site-packages/bs4/builder/__init__.py:545: XMLParsedAsHTMLWarning: It looks like you're parsing an XML document using an HTML parser. If this really is an HTML document (maybe it's XHTML?), you can ignore or filter this warning. If it's XML, you should know that using an XML parser will be more reliable. To parse this document as XML, make sure you have the lxml package installed, and pass the keyword argument `features=\"xml\"` into the BeautifulSoup constructor.\n",
      "  warnings.warn(\n"
     ]
    },
    {
     "name": "stdout",
     "output_type": "stream",
     "text": [
      "AxesSubplot(0.1275,0.11;0.77x0.77)\n",
      "AxesSubplot(0.125,0.11;0.775x0.77)\n",
      "AxesSubplot(0.125,0.11;0.775x0.77)\n",
      "AxesSubplot(0.125,0.11;0.775x0.77)\n",
      "---chapters/22.xml---\n",
      "Länge inkl. <note>: 22914\n",
      "supplied: 2\n",
      "Länge d. <note>-Inhalte: 4353\n",
      "Gesamtlänge:18559\n",
      "Anzahl an erfassten Bibelstellen: 49\n",
      "wörtliche Zitate: 27\n",
      "Zitatlänge :1830\n",
      "Prozentualer Anteil: 7.986383870123069\n",
      "AxesSubplot(0.1275,0.11;0.77x0.77)\n"
     ]
    },
    {
     "name": "stderr",
     "output_type": "stream",
     "text": [
      "/home/kevin/PycharmProjects/Graz_Bibelstellen/venv/lib/python3.10/site-packages/bs4/builder/__init__.py:545: XMLParsedAsHTMLWarning: It looks like you're parsing an XML document using an HTML parser. If this really is an HTML document (maybe it's XHTML?), you can ignore or filter this warning. If it's XML, you should know that using an XML parser will be more reliable. To parse this document as XML, make sure you have the lxml package installed, and pass the keyword argument `features=\"xml\"` into the BeautifulSoup constructor.\n",
      "  warnings.warn(\n"
     ]
    },
    {
     "name": "stdout",
     "output_type": "stream",
     "text": [
      "AxesSubplot(0.125,0.11;0.775x0.77)\n",
      "AxesSubplot(0.125,0.11;0.775x0.77)\n",
      "AxesSubplot(0.125,0.11;0.775x0.77)\n"
     ]
    },
    {
     "name": "stderr",
     "output_type": "stream",
     "text": [
      "/home/kevin/PycharmProjects/Graz_Bibelstellen/venv/lib/python3.10/site-packages/bs4/builder/__init__.py:545: XMLParsedAsHTMLWarning: It looks like you're parsing an XML document using an HTML parser. If this really is an HTML document (maybe it's XHTML?), you can ignore or filter this warning. If it's XML, you should know that using an XML parser will be more reliable. To parse this document as XML, make sure you have the lxml package installed, and pass the keyword argument `features=\"xml\"` into the BeautifulSoup constructor.\n",
      "  warnings.warn(\n"
     ]
    },
    {
     "name": "stdout",
     "output_type": "stream",
     "text": [
      "---chapters/23.xml---\n",
      "Länge inkl. <note>: 5835\n",
      "supplied: 2\n",
      "Länge d. <note>-Inhalte: 1023\n",
      "Gesamtlänge:4810\n",
      "Anzahl an erfassten Bibelstellen: 19\n",
      "wörtliche Zitate: 8\n",
      "Zitatlänge :831\n",
      "Prozentualer Anteil: 14.241645244215938\n",
      "AxesSubplot(0.1275,0.11;0.77x0.77)\n",
      "AxesSubplot(0.125,0.11;0.775x0.77)\n",
      "AxesSubplot(0.125,0.11;0.775x0.77)\n",
      "AxesSubplot(0.125,0.11;0.775x0.77)\n",
      "---chapters/24.xml---\n",
      "Länge inkl. <note>: 7486\n",
      "supplied: 2\n",
      "Länge d. <note>-Inhalte: 2475\n",
      "Gesamtlänge:5009\n",
      "Anzahl an erfassten Bibelstellen: 3\n",
      "wörtliche Zitate: 0\n",
      "Zitatlänge :0\n",
      "Prozentualer Anteil: 0.0\n",
      "AxesSubplot(0.1275,0.11;0.77x0.77)\n",
      "AxesSubplot(0.125,0.11;0.775x0.77)\n"
     ]
    },
    {
     "name": "stderr",
     "output_type": "stream",
     "text": [
      "/home/kevin/PycharmProjects/Graz_Bibelstellen/venv/lib/python3.10/site-packages/bs4/builder/__init__.py:545: XMLParsedAsHTMLWarning: It looks like you're parsing an XML document using an HTML parser. If this really is an HTML document (maybe it's XHTML?), you can ignore or filter this warning. If it's XML, you should know that using an XML parser will be more reliable. To parse this document as XML, make sure you have the lxml package installed, and pass the keyword argument `features=\"xml\"` into the BeautifulSoup constructor.\n",
      "  warnings.warn(\n"
     ]
    },
    {
     "name": "stdout",
     "output_type": "stream",
     "text": [
      "AxesSubplot(0.125,0.11;0.775x0.77)\n",
      "AxesSubplot(0.125,0.11;0.775x0.77)\n",
      "---chapters/26.xml---\n",
      "Länge inkl. <note>: 9420\n",
      "supplied: 2\n",
      "Länge d. <note>-Inhalte: 1230\n",
      "Gesamtlänge:8188\n",
      "Anzahl an erfassten Bibelstellen: 11\n",
      "wörtliche Zitate: 2\n",
      "Zitatlänge :73\n",
      "Prozentualer Anteil: 0.7749469214437368\n",
      "AxesSubplot(0.1275,0.11;0.77x0.77)\n"
     ]
    },
    {
     "name": "stderr",
     "output_type": "stream",
     "text": [
      "/home/kevin/PycharmProjects/Graz_Bibelstellen/venv/lib/python3.10/site-packages/bs4/builder/__init__.py:545: XMLParsedAsHTMLWarning: It looks like you're parsing an XML document using an HTML parser. If this really is an HTML document (maybe it's XHTML?), you can ignore or filter this warning. If it's XML, you should know that using an XML parser will be more reliable. To parse this document as XML, make sure you have the lxml package installed, and pass the keyword argument `features=\"xml\"` into the BeautifulSoup constructor.\n",
      "  warnings.warn(\n"
     ]
    },
    {
     "name": "stdout",
     "output_type": "stream",
     "text": [
      "AxesSubplot(0.125,0.11;0.775x0.77)\n",
      "AxesSubplot(0.125,0.11;0.775x0.77)\n",
      "AxesSubplot(0.125,0.11;0.775x0.77)\n"
     ]
    }
   ],
   "source": [
    "analyse('chapters/01.xml')\n",
    "analyse('chapters/02.xml')\n",
    "analyse('chapters/03.xml')\n",
    "analyse('chapters/04.xml')\n",
    "analyse('chapters/05.xml')\n",
    "analyse('chapters/06.xml')\n",
    "analyse('chapters/07.xml')\n",
    "analyse('chapters/08.xml')\n",
    "analyse('chapters/09.xml')\n",
    "analyse('chapters/10.xml')\n",
    "analyse('chapters/11.xml')\n",
    "analyse('chapters/12.xml')\n",
    "analyse('chapters/13.xml')\n",
    "#analyse('chapters/14.xml')\n",
    "analyse('chapters/15.xml')\n",
    "analyse('chapters/16.xml')\n",
    "analyse('chapters/17.xml')\n",
    "analyse('chapters/18.xml')\n",
    "analyse('chapters/19.xml')\n",
    "analyse('chapters/20.xml')\n",
    "analyse('chapters/21.xml')\n",
    "analyse('chapters/22.xml')\n",
    "analyse('chapters/23.xml')\n",
    "analyse('chapters/24.xml')\n",
    "#analyse('chapters/25.xml')\n",
    "analyse('chapters/26.xml')"
   ]
  },
  {
   "cell_type": "code",
   "execution_count": null,
   "metadata": {},
   "outputs": [],
   "source": []
  }
 ],
 "metadata": {
  "kernelspec": {
   "display_name": "Python 3 (ipykernel)",
   "language": "python",
   "name": "python3"
  },
  "language_info": {
   "codemirror_mode": {
    "name": "ipython",
    "version": 3
   },
   "file_extension": ".py",
   "mimetype": "text/x-python",
   "name": "python",
   "nbconvert_exporter": "python",
   "pygments_lexer": "ipython3",
   "version": "3.10.6"
  }
 },
 "nbformat": 4,
 "nbformat_minor": 1
}
