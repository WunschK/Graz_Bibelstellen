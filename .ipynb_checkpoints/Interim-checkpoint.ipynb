{
 "cells": [
  {
   "cell_type": "code",
   "execution_count": null,
   "metadata": {
    "pycharm": {
     "is_executing": true
    }
   },
   "outputs": [],
   "source": [
    "import bs4 as bs\n",
    "import pandas as pd\n",
    "import matplotlib as plt\n",
    "from matplotlib import pyplot as pplt\n",
    "import os\n",
    "from pptx import Presentation\n",
    "import pprint as p\n",
    "\n",
    "#Die Buch-Kürzel des alten Testaments\n",
    "AT = [\"Gn\", \"Ex\", \"Lv\", \"Nm\", \"Dt\", \"Ios\", \"Idc\", \"Rt\", \"1Sm\", \"2Sm\", \"3Rg\", \"4Rg\", \"1Par\", \"2Par\", \"Esr\", \"Neh\", \"Tb\",\n",
    "      \"Idt\", \"Est\", \"1Mcc\"\n",
    "    , \"2Mcc\", \"3Mcc\", \"4Mcc\", \"Iob\", \"Ps\", \"Prv\", \"Ecl\", \"Ct\", \"Sap\", \"Sir\", \"Is\", \"Ier\", \"Lam\", \"Bar\", \"Ez\", \"Dn\",\n",
    "      \"Os\", \"Ioel\", \"Am\", \"Abd\"\n",
    "    , \"Ion\", \"Mi\", \"Na\", \"Hab\", \"So\", \"Agg\", \"Za\", \"Mal\"]"
   ]
  },
  {
   "cell_type": "code",
   "execution_count": 21,
   "metadata": {
    "pycharm": {
     "is_executing": true
    }
   },
   "outputs": [],
   "source": [
    "def percent_calc(num1, num2):\n",
    "    '''returns percentage value'''\n",
    "    return (num1/num2)*100\n",
    "    \n",
    " \n",
    "    \n",
    "def analyse(filename):\n",
    "    '''Opens a file specified by the filename, including the directory and creates dataframe for the respective file. Subsequently, \n",
    "    this function analyses the chapter with regard to our criteria: 1) Length of the text 2) direct bible quote 3) percentage of text that is a quote'''\n",
    "    #Öffnen der Datei \"filename\"\n",
    "    file_title = filename.split(\".\")[0]\n",
    "    with open(filename, 'r') as f:\n",
    "        file = f.read()   \n",
    "    soup = bs.BeautifulSoup(file, 'lxml')\n",
    "    #Wählen aller ref-Elemente, die das Attribut cRef haben\n",
    "    Refs = soup.select('ref[cRef]')\n",
    "    # Konvertierung der Daten in data. Dies ist die Grundlage für die Auswertungen\n",
    "    data = []\n",
    "    for ref in Refs:\n",
    "        if ref.get('cref').split('_')[0] in AT:\n",
    "            if ref.parent.find_previous_sibling() == ref.parent.find_previous_sibling('q'):\n",
    "                data.append((ref.get('cref') , 'at', ref.getText() , ref.parent.find_previous_sibling('q').get_text(' ',strip=True)))\n",
    "            else:\n",
    "                data.append((ref.get('cref'), 'at', ref.getText(), 'not a direct quote'))\n",
    "        else:\n",
    "            if ref.parent.find_previous_sibling() == ref.parent.find_previous_sibling('q'):\n",
    "                data.append((ref.get('cref') , 'nt', ref.getText() , ref.parent.find_previous_sibling('q').get_text(' ',strip=True)))\n",
    "            else:\n",
    "                data.append((ref.get('cref'), 'nt', ref.getText(), 'not a direct quote'))\n",
    "    # der eigentliche Dataframe wird gesetzt\n",
    "    df_data = pd.DataFrame(data)\n",
    "    # der Header wird gesetzt.\n",
    "    df_data.columns = ['kuerzel', 'atnt', 'stelle', 'zitat']\n",
    "\n",
    "\n",
    "\n",
    "    # Hier wird eine Liste der wörtlichen Zitate erstellt\n",
    "    qs = []\n",
    "    for ref in Refs:\n",
    "        if ref.parent.find_previous_sibling() == ref.parent.find_previous_sibling(\"q\"):\n",
    "            qs.append(ref.parent.find_previous_sibling(\"q\").get_text(\" \", strip=True))\n",
    "\n",
    "\n",
    "\n",
    "    # Hier eine Liste der zitierten Stelle \n",
    "    stellen = []\n",
    "    for i in range (0, len(df_data)):\n",
    "        if df_data['zitat'][i] != 'not a direct quote':\n",
    "            stellen.append(df_data['stelle'][i])\n",
    "    #print(stellen)\n",
    "    \n",
    "    # Zählen der Gesamtlänge des zitierten Textes; ohne Leerzeilen und Zeilenumbrüche \n",
    "    quote_len = 0\n",
    "    for i in range(len(qs)):\n",
    "        quote_len +=len(qs[i].replace(\" \",\"\").replace(\"\\n\", \"\"))\n",
    "\n",
    "    #ges = bs.BeautifulSoup(file, 'lxml')\n",
    "    ges_soup = soup.select('div')\n",
    "    #print(len(ges_soup[2].text))\n",
    "    notes = soup.body.select(\"note\")\n",
    "    supplied = soup.body.select(\"supplied\")\n",
    "    \n",
    "    \n",
    "    # Zählen der Gesamtlänge des Textes; ohne Leerzeilen und Zeilenumbrüche\n",
    "    total_len=0\n",
    "    for i in range(len(ges_soup)):\n",
    "        total_len += len(ges_soup[i].getText().replace(\" \", \"\").replace(\"\\n\", \"\"))\n",
    "     \n",
    "   # Berechnung der Länge des Textes aller note-Elemente \n",
    "    no_len = 0\n",
    "    for i in range(len(notes)):\n",
    "        #print(len(notes[i].getText()))\n",
    "        no_len += len(notes[i].getText().replace(\" \",\"\").replace(\"\\n\", \"\"))\n",
    "    #print(no_len)\n",
    "    supplied_len = 0\n",
    "    for i in range(len(supplied)):\n",
    "        supplied_len += len(supplied[i].getText().replace(\" \", \"\").replace(\"\\n\", \"\"))\n",
    "\n",
    "\n",
    "    print(f\"---{filename}---\")\n",
    "    print(f\"Länge inkl. <note>: {total_len}\")\n",
    "    print(f\"supplied: {supplied_len}\")\n",
    "    print(f\"Länge d. <note>-Inhalte: {no_len}\")\n",
    "    print(\"Gesamtlänge:\" +str(total_len-no_len-supplied_len))\n",
    "    print(f\"Anzahl an erfassten Bibelstellen: {len(Refs)}\")\n",
    "    print(f\"wörtliche Zitate: {len(stellen)}\")\n",
    "    #p.pprint(f\"Liste d. wörtlichen Zitate:{stellen}\")\n",
    "    print(\"Zitatlänge :\"+ str(quote_len))    \n",
    "    print(\"Prozentualer Anteil: \" +(str(percent_calc(quote_len, total_len))))\n",
    "    lines = [f\"Anzahl an erfassten Bibelstellen: {len(Refs)}\", f\"wörtliche Zitate: {len(stellen)}\", f\"Liste d. wörtl.: {stellen}\",f\"Länge inkl. note: {total_len}\" ,f\"Gesamtlänge: {str(total_len-no_len-supplied_len)}\", f\"Länge d. erf. <note>-Inhalte: {no_len}\", f\"Zitatlänge :{str(quote_len)}\",f\"Prozentualer Anteil: {(str(percent_calc(quote_len, total_len)))}\"]\n",
    "    # Speichern der obigen Ausgabe harter Fakten in einer Text-Datei mit dem Titel der ausgewählten Datei. \n",
    "    with open(f'Visualisierungen/{file_title}', 'w') as f2:\n",
    "        for line in lines:\n",
    "            f2.write(line)\n",
    "            f2.write(\"\\n\")\n",
    "    # Ausgabe, Speichern und Schließen der einzelen Diagramme. \n",
    "    print(df_data[\"kuerzel\"].value_counts().plot(figsize=(8,8), kind=\"pie\", legend=False, title=f\"{filename}\"))\n",
    "    pplt.savefig(f'Visualisierungen/{file_title}.jpg')\n",
    "    pplt.clf()\n",
    "    pplt.cla()\n",
    "    pplt.close()\n",
    "    print(df_data[\"atnt\"].value_counts().plot(figsize=(8,8), kind=\"bar\", legend=False, title=f\"{filename}\", color=[\"blue\", \"red\"]))\n",
    "    pplt.savefig(f'Visualisierungen/{file_title}_atnt.jpg')\n",
    "    pplt.clf()\n",
    "    pplt.cla()\n",
    "    pplt.close()\n",
    "    print(df_data[\"kuerzel\"].value_counts()[:5].plot(figsize=(8,8), kind=\"barh\", legend=False, title=f\"{filename}  @cRef)\", color=\"purple\"))\n",
    "    pplt.savefig(f'Visualisierungen/{file_title}_cref.jpg')\n",
    "    pplt.clf()\n",
    "    pplt.cla()\n",
    "    pplt.close()\n",
    "    print(df_data[\"stelle\"].value_counts()[:10].plot(figsize=(8,8), kind=\"barh\", legend=False, title=f\"{filename} nach Stellen\", color=\"red\"))\n",
    "    pplt.savefig(f'Visualisierungen/{file_title}_nach_stellen.jpg')\n",
    "    pplt.clf()\n",
    "    pplt.cla()\n",
    "    pplt.close()\n",
    "    \n",
    "    "
   ]
  },
  {
   "cell_type": "code",
   "execution_count": 37,
   "metadata": {
    "pycharm": {
     "is_executing": true
    }
   },
   "outputs": [],
   "source": [
    "def no_bible_quote(filename):\n",
    "    '''Opens a file specified by the filename, including the directory and creates dataframe for the respective file. Subsequently, this function analyses the chapter with regard to our criteria'''\n",
    "    file_title = filename.split(\".\")[0]\n",
    "    with open(filename, 'r') as f:\n",
    "        file = f.read() \n",
    "    ges = bs.BeautifulSoup(file, 'lxml')\n",
    "    ges_soup = ges.select('div')\n",
    "    notes = ges.find_all(\"note\")\n",
    "    supplied = ges.body.select(\"supplied\")\n",
    "    # Zählen der Gesamtlänge des Textes; ohne Leerzeilen und Zeilenumbrüche\n",
    "    total_len=0\n",
    "    for i in range(len(ges_soup)):\n",
    "        total_len += len(ges_soup[i].getText().replace(\" \", \"\").replace(\"\\n\", \"\"))\n",
    "     \n",
    "   # Berechnung der Länge des Textes aller note-Elemente \n",
    "    no_len = 0\n",
    "    for i in range(len(notes)):\n",
    "        #print(len(notes[i].getText()))\n",
    "        no_len += len(notes[i].getText())\n",
    "    print(no_len)\n",
    "    \n",
    "    supplied_len = 0\n",
    "    for i in range(len(supplied)):\n",
    "        supplied_len += len(supplied[i].getText().replace(\" \", \"\").replace(\"\\n\", \"\"))\n",
    "\n",
    "    print(\"Gesamtlänge:\" +str(total_len-no_len-supplied_len))"
   ]
  },
  {
   "cell_type": "markdown",
   "metadata": {},
   "source": [
    "# Daten für das gesamte Interim"
   ]
  },
  {
   "cell_type": "code",
   "execution_count": null,
   "metadata": {
    "pycharm": {
     "is_executing": true
    },
    "scrolled": true
   },
   "outputs": [],
   "source": [
    "\n",
    "analyse('interim4.xml')\n"
   ]
  },
  {
   "cell_type": "code",
   "execution_count": null,
   "metadata": {
    "pycharm": {
     "is_executing": true
    }
   },
   "outputs": [],
   "source": [
    "analyse('chapters/05.xml')"
   ]
  },
  {
   "cell_type": "code",
   "execution_count": null,
   "metadata": {
    "pycharm": {
     "is_executing": true
    }
   },
   "outputs": [],
   "source": [
    "with open('interim.xml', 'r') as f:\n",
    "    file = f.read()   \n",
    "ges2 = bs.BeautifulSoup(file, 'lxml')\n",
    "ges_soup2 = ges2.select('div')\n",
    "print(len(ges_soup2[0]))\n",
    "print(ges_soup2[0].getText(\" \", strip=True))"
   ]
  },
  {
   "cell_type": "code",
   "execution_count": null,
   "metadata": {
    "pycharm": {
     "is_executing": true
    }
   },
   "outputs": [],
   "source": [
    "for i in range(1,27):\n",
    "    if i <10:\n",
    "        print(f\"analyse('chapters/0{i}.xml')\")\n",
    "    else:\n",
    "        print(f\"analyse('chapters/{i}.xml')\")\n",
    "    i +=1"
   ]
  },
  {
   "cell_type": "code",
   "execution_count": null,
   "metadata": {
    "pycharm": {
     "is_executing": true
    }
   },
   "outputs": [],
   "source": [
    "analyse('chapters/01.xml')\n",
    "analyse('chapters/02.xml')\n",
    "analyse('chapters/03.xml')\n",
    "analyse('chapters/04.xml')\n",
    "analyse('chapters/05.xml')\n",
    "analyse('chapters/06.xml')\n",
    "analyse('chapters/07.xml')\n",
    "analyse('chapters/08.xml')\n",
    "analyse('chapters/09.xml')\n",
    "analyse('chapters/10.xml')\n",
    "analyse('chapters/11.xml')\n",
    "analyse('chapters/12.xml')\n",
    "analyse('chapters/13.xml')\n",
    "#analyse('chapters/14.xml')\n",
    "analyse('chapters/15.xml')\n",
    "analyse('chapters/16.xml')\n",
    "analyse('chapters/17.xml')\n",
    "analyse('chapters/18.xml')\n",
    "analyse('chapters/19.xml')\n",
    "analyse('chapters/20.xml')\n",
    "analyse('chapters/21.xml')\n",
    "analyse('chapters/22.xml')\n",
    "analyse('chapters/23.xml')\n",
    "analyse('chapters/24.xml')\n",
    "#analyse('chapters/25.xml')\n",
    "analyse('chapters/26.xml')"
   ]
  },
  {
   "cell_type": "code",
   "execution_count": 38,
   "metadata": {
    "pycharm": {
     "is_executing": true
    }
   },
   "outputs": [
    {
     "name": "stdout",
     "output_type": "stream",
     "text": [
      "259\n",
      "Gesamtlänge:805\n"
     ]
    }
   ],
   "source": [
    "no_bible_quote('chapters/25.xml')"
   ]
  },
  {
   "cell_type": "code",
   "execution_count": null,
   "metadata": {},
   "outputs": [],
   "source": [
    "944"
   ]
  },
  {
   "cell_type": "code",
   "execution_count": 30,
   "metadata": {
    "pycharm": {
     "is_executing": true
    }
   },
   "outputs": [
    {
     "name": "stderr",
     "output_type": "stream",
     "text": [
      "/home/kevin/PycharmProjects/Graz_Bibelstellen/venv/lib/python3.10/site-packages/bs4/builder/__init__.py:545: XMLParsedAsHTMLWarning: It looks like you're parsing an XML document using an HTML parser. If this really is an HTML document (maybe it's XHTML?), you can ignore or filter this warning. If it's XML, you should know that using an XML parser will be more reliable. To parse this document as XML, make sure you have the lxml package installed, and pass the keyword argument `features=\"xml\"` into the BeautifulSoup constructor.\n",
      "  warnings.warn(\n"
     ]
    },
    {
     "ename": "ValueError",
     "evalue": "Length mismatch: Expected axis has 0 elements, new values have 4 elements",
     "output_type": "error",
     "traceback": [
      "\u001b[0;31m---------------------------------------------------------------------------\u001b[0m",
      "\u001b[0;31mValueError\u001b[0m                                Traceback (most recent call last)",
      "Cell \u001b[0;32mIn [30], line 1\u001b[0m\n\u001b[0;32m----> 1\u001b[0m \u001b[43manalyse\u001b[49m\u001b[43m(\u001b[49m\u001b[38;5;124;43m'\u001b[39;49m\u001b[38;5;124;43mchapters/14.xml\u001b[39;49m\u001b[38;5;124;43m'\u001b[39;49m\u001b[43m)\u001b[49m\n",
      "Cell \u001b[0;32mIn [21], line 33\u001b[0m, in \u001b[0;36manalyse\u001b[0;34m(filename)\u001b[0m\n\u001b[1;32m     31\u001b[0m df_data \u001b[38;5;241m=\u001b[39m pd\u001b[38;5;241m.\u001b[39mDataFrame(data)\n\u001b[1;32m     32\u001b[0m \u001b[38;5;66;03m# der Header wird gesetzt.\u001b[39;00m\n\u001b[0;32m---> 33\u001b[0m \u001b[43mdf_data\u001b[49m\u001b[38;5;241;43m.\u001b[39;49m\u001b[43mcolumns\u001b[49m \u001b[38;5;241m=\u001b[39m [\u001b[38;5;124m'\u001b[39m\u001b[38;5;124mkuerzel\u001b[39m\u001b[38;5;124m'\u001b[39m, \u001b[38;5;124m'\u001b[39m\u001b[38;5;124matnt\u001b[39m\u001b[38;5;124m'\u001b[39m, \u001b[38;5;124m'\u001b[39m\u001b[38;5;124mstelle\u001b[39m\u001b[38;5;124m'\u001b[39m, \u001b[38;5;124m'\u001b[39m\u001b[38;5;124mzitat\u001b[39m\u001b[38;5;124m'\u001b[39m]\n\u001b[1;32m     37\u001b[0m \u001b[38;5;66;03m# Hier wird eine Liste der wörtlichen Zitate erstellt\u001b[39;00m\n\u001b[1;32m     38\u001b[0m qs \u001b[38;5;241m=\u001b[39m []\n",
      "File \u001b[0;32m~/PycharmProjects/Graz_Bibelstellen/venv/lib/python3.10/site-packages/pandas/core/generic.py:5920\u001b[0m, in \u001b[0;36mNDFrame.__setattr__\u001b[0;34m(self, name, value)\u001b[0m\n\u001b[1;32m   5918\u001b[0m \u001b[38;5;28;01mtry\u001b[39;00m:\n\u001b[1;32m   5919\u001b[0m     \u001b[38;5;28mobject\u001b[39m\u001b[38;5;241m.\u001b[39m\u001b[38;5;21m__getattribute__\u001b[39m(\u001b[38;5;28mself\u001b[39m, name)\n\u001b[0;32m-> 5920\u001b[0m     \u001b[38;5;28;01mreturn\u001b[39;00m \u001b[38;5;28;43mobject\u001b[39;49m\u001b[38;5;241;43m.\u001b[39;49m\u001b[38;5;21;43m__setattr__\u001b[39;49m\u001b[43m(\u001b[49m\u001b[38;5;28;43mself\u001b[39;49m\u001b[43m,\u001b[49m\u001b[43m \u001b[49m\u001b[43mname\u001b[49m\u001b[43m,\u001b[49m\u001b[43m \u001b[49m\u001b[43mvalue\u001b[49m\u001b[43m)\u001b[49m\n\u001b[1;32m   5921\u001b[0m \u001b[38;5;28;01mexcept\u001b[39;00m \u001b[38;5;167;01mAttributeError\u001b[39;00m:\n\u001b[1;32m   5922\u001b[0m     \u001b[38;5;28;01mpass\u001b[39;00m\n",
      "File \u001b[0;32m~/PycharmProjects/Graz_Bibelstellen/venv/lib/python3.10/site-packages/pandas/_libs/properties.pyx:69\u001b[0m, in \u001b[0;36mpandas._libs.properties.AxisProperty.__set__\u001b[0;34m()\u001b[0m\n",
      "File \u001b[0;32m~/PycharmProjects/Graz_Bibelstellen/venv/lib/python3.10/site-packages/pandas/core/generic.py:822\u001b[0m, in \u001b[0;36mNDFrame._set_axis\u001b[0;34m(self, axis, labels)\u001b[0m\n\u001b[1;32m    820\u001b[0m \u001b[38;5;28;01mdef\u001b[39;00m \u001b[38;5;21m_set_axis\u001b[39m(\u001b[38;5;28mself\u001b[39m, axis: \u001b[38;5;28mint\u001b[39m, labels: AnyArrayLike \u001b[38;5;241m|\u001b[39m \u001b[38;5;28mlist\u001b[39m) \u001b[38;5;241m-\u001b[39m\u001b[38;5;241m>\u001b[39m \u001b[38;5;28;01mNone\u001b[39;00m:\n\u001b[1;32m    821\u001b[0m     labels \u001b[38;5;241m=\u001b[39m ensure_index(labels)\n\u001b[0;32m--> 822\u001b[0m     \u001b[38;5;28;43mself\u001b[39;49m\u001b[38;5;241;43m.\u001b[39;49m\u001b[43m_mgr\u001b[49m\u001b[38;5;241;43m.\u001b[39;49m\u001b[43mset_axis\u001b[49m\u001b[43m(\u001b[49m\u001b[43maxis\u001b[49m\u001b[43m,\u001b[49m\u001b[43m \u001b[49m\u001b[43mlabels\u001b[49m\u001b[43m)\u001b[49m\n\u001b[1;32m    823\u001b[0m     \u001b[38;5;28mself\u001b[39m\u001b[38;5;241m.\u001b[39m_clear_item_cache()\n",
      "File \u001b[0;32m~/PycharmProjects/Graz_Bibelstellen/venv/lib/python3.10/site-packages/pandas/core/internals/managers.py:228\u001b[0m, in \u001b[0;36mBaseBlockManager.set_axis\u001b[0;34m(self, axis, new_labels)\u001b[0m\n\u001b[1;32m    226\u001b[0m \u001b[38;5;28;01mdef\u001b[39;00m \u001b[38;5;21mset_axis\u001b[39m(\u001b[38;5;28mself\u001b[39m, axis: \u001b[38;5;28mint\u001b[39m, new_labels: Index) \u001b[38;5;241m-\u001b[39m\u001b[38;5;241m>\u001b[39m \u001b[38;5;28;01mNone\u001b[39;00m:\n\u001b[1;32m    227\u001b[0m     \u001b[38;5;66;03m# Caller is responsible for ensuring we have an Index object.\u001b[39;00m\n\u001b[0;32m--> 228\u001b[0m     \u001b[38;5;28;43mself\u001b[39;49m\u001b[38;5;241;43m.\u001b[39;49m\u001b[43m_validate_set_axis\u001b[49m\u001b[43m(\u001b[49m\u001b[43maxis\u001b[49m\u001b[43m,\u001b[49m\u001b[43m \u001b[49m\u001b[43mnew_labels\u001b[49m\u001b[43m)\u001b[49m\n\u001b[1;32m    229\u001b[0m     \u001b[38;5;28mself\u001b[39m\u001b[38;5;241m.\u001b[39maxes[axis] \u001b[38;5;241m=\u001b[39m new_labels\n",
      "File \u001b[0;32m~/PycharmProjects/Graz_Bibelstellen/venv/lib/python3.10/site-packages/pandas/core/internals/base.py:70\u001b[0m, in \u001b[0;36mDataManager._validate_set_axis\u001b[0;34m(self, axis, new_labels)\u001b[0m\n\u001b[1;32m     67\u001b[0m     \u001b[38;5;28;01mpass\u001b[39;00m\n\u001b[1;32m     69\u001b[0m \u001b[38;5;28;01melif\u001b[39;00m new_len \u001b[38;5;241m!=\u001b[39m old_len:\n\u001b[0;32m---> 70\u001b[0m     \u001b[38;5;28;01mraise\u001b[39;00m \u001b[38;5;167;01mValueError\u001b[39;00m(\n\u001b[1;32m     71\u001b[0m         \u001b[38;5;124mf\u001b[39m\u001b[38;5;124m\"\u001b[39m\u001b[38;5;124mLength mismatch: Expected axis has \u001b[39m\u001b[38;5;132;01m{\u001b[39;00mold_len\u001b[38;5;132;01m}\u001b[39;00m\u001b[38;5;124m elements, new \u001b[39m\u001b[38;5;124m\"\u001b[39m\n\u001b[1;32m     72\u001b[0m         \u001b[38;5;124mf\u001b[39m\u001b[38;5;124m\"\u001b[39m\u001b[38;5;124mvalues have \u001b[39m\u001b[38;5;132;01m{\u001b[39;00mnew_len\u001b[38;5;132;01m}\u001b[39;00m\u001b[38;5;124m elements\u001b[39m\u001b[38;5;124m\"\u001b[39m\n\u001b[1;32m     73\u001b[0m     )\n",
      "\u001b[0;31mValueError\u001b[0m: Length mismatch: Expected axis has 0 elements, new values have 4 elements"
     ]
    }
   ],
   "source": [
    "analyse('chapters/14.xml')"
   ]
  },
  {
   "cell_type": "code",
   "execution_count": null,
   "metadata": {},
   "outputs": [],
   "source": []
  }
 ],
 "metadata": {
  "kernelspec": {
   "display_name": "Python 3 (ipykernel)",
   "language": "python",
   "name": "python3"
  },
  "language_info": {
   "codemirror_mode": {
    "name": "ipython",
    "version": 3
   },
   "file_extension": ".py",
   "mimetype": "text/x-python",
   "name": "python",
   "nbconvert_exporter": "python",
   "pygments_lexer": "ipython3",
   "version": "3.10.6"
  }
 },
 "nbformat": 4,
 "nbformat_minor": 1
}
